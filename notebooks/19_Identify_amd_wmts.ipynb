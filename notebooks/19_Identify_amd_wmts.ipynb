{
 "cells": [
  {
   "cell_type": "code",
   "execution_count": null,
   "metadata": {},
   "outputs": [],
   "source": [
    "basic_wmts_utl = \"https://wmts.geo.admin.ch/1.0.0\"\n",
    "basic_identify_url = \"https://api3.geo.admin.ch/rest/services/api/MapServer/identify\"\n",
    "wmts_parameters = {}\n",
    "identify_parameters = {}"
   ]
  }
 ],
 "metadata": {
  "kernelspec": {
   "display_name": "Python 3",
   "language": "python",
   "name": "python3"
  },
  "language_info": {
   "codemirror_mode": {
    "name": "ipython",
    "version": 3
   },
   "file_extension": ".py",
   "mimetype": "text/x-python",
   "name": "python",
   "nbconvert_exporter": "python",
   "pygments_lexer": "ipython3",
   "version": "3.8.0"
  }
 },
 "nbformat": 4,
 "nbformat_minor": 4
}
