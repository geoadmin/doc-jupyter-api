{
 "cells": [
  {
   "cell_type": "markdown",
   "metadata": {
    "jupyter": {
     "outputs_hidden": true
    }
   },
   "source": [
    "----------------------------- DOCUMENTATION -------------------------------------\n",
    "You can find this documentation at https://api3.geo.admin.ch/services/sdiservices.html#htmlpopup-resource"
   ]
  },
  {
   "cell_type": "markdown",
   "metadata": {},
   "source": [
    "\n",
    "Htmlpopup Resource\n",
    "\n",
    "With an ID and a layer ID (technical name), this service can be used to retrieve an html popup. An html popup is an html formatted representation of the textual information about the feature. Here is a complete list of layers for which this service is available.\n",
    "URL\n",
    "\n",
    "https://api3.geo.admin.ch/rest/services/api/MapServer/{layerBodId}/{featureId}/htmlPopup\n",
    "\n",
    "Input Parameters\n",
    "\n",
    "No css styling is provided per default so that you can use your own.\n",
    "Parameters \tDescription\n",
    "lang (optional) \tThe language. Supported values: de, fr, it , rm, en. Defaults to “de”.\n",
    "sr (optional) \tThe spatial reference. Supported values: 21781 (LV03), 2056 (LV95). Defaults to “21781”.\n",
    "time (optional) \tTime (YYYY) to filter out time enabled layers, e.g. LUBIS. Defaults to “none”.\n",
    "callback (optional) \tThe name of the callback function.\n",
    "Example\n",
    "\n",
    "    Get the html popup with the feature ID RIG belonging to layer ch.bafu.nabelstationen: https://api3.geo.admin.ch/rest/services/api/MapServer/ch.bafu.nabelstationen/RIG/htmlPopup\n",
    "\n"
   ]
  }
 ],
 "metadata": {
  "kernelspec": {
   "display_name": "Python 3",
   "language": "python",
   "name": "python3"
  },
  "language_info": {
   "codemirror_mode": {
    "name": "ipython",
    "version": 3
   },
   "file_extension": ".py",
   "mimetype": "text/x-python",
   "name": "python",
   "nbconvert_exporter": "python",
   "pygments_lexer": "ipython3",
   "version": "3.8.0"
  }
 },
 "nbformat": 4,
 "nbformat_minor": 4
}
