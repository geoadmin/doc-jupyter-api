{
 "cells": [
  {
   "cell_type": "markdown",
   "metadata": {},
   "source": [
    "In this notebook, we're going to use some of the resources in the api and use them. You can find the relevant documentation for the services shown here in\n",
    "- 05_Identify_Features\n",
    "- 06_Find\n",
    "- 09_Search\n",
    "- 12_WMTS"
   ]
  },
  {
   "cell_type": "code",
   "execution_count": null,
   "metadata": {},
   "outputs": [],
   "source": [
    "import os\n",
    "import requests\n",
    "import pandas\n",
    "import geopandas"
   ]
  },
  {
   "cell_type": "markdown",
   "metadata": {},
   "source": [
    "We're going to prepare a search query and a find query"
   ]
  },
  {
   "cell_type": "code",
   "execution_count": null,
   "metadata": {},
   "outputs": [],
   "source": [
    "basic_find_url = \"https://api3.geo.admin.ch/rest/services/api/MapServer/find\"\n",
    "basic_search_url = \"https://api3.geo.admin.ch/rest/services/api/SearchServer\"\n",
    "basic_wmts_utl = \"https://wmts.geo.admin.ch/1.0.0\"\n",
    "basic_identify_url = \"https://api3.geo.admin.ch/rest/services/api/MapServer/identify\"\n",
    "find_parameters = {}\n",
    "search_parameters_for_location = {'searchText': None, 'type': 'locations', 'bbox': None, 'sortbbox': None, 'returnGeometry': None, 'origins': None, 'limit': None, 'sr': None, 'geometryFormat': None, 'callback': None}\n",
    "search_parameters_for_layer = {'searchText': None, 'type': 'layers', 'lang': None,'limit': None, 'sr': None, 'geometryFormat': None, 'callback': None}\n",
    "search_parameters_for_feature = {'searchText': None, type: 'featuresearch', 'bbox': None, 'sortbbox': None, 'features': None, 'limit': None, 'sr': None, 'geometryFormat': None, 'callback': None}\n",
    "wmts_parameters = {}\n",
    "identify_parameters = {}\n"
   ]
  }
 ],
 "metadata": {
  "kernelspec": {
   "display_name": "Python 3",
   "language": "python",
   "name": "python3"
  },
  "language_info": {
   "codemirror_mode": {
    "name": "ipython",
    "version": 3
   },
   "file_extension": ".py",
   "mimetype": "text/x-python",
   "name": "python",
   "nbconvert_exporter": "python",
   "pygments_lexer": "ipython3",
   "version": "3.8.0"
  }
 },
 "nbformat": 4,
 "nbformat_minor": 4
}
