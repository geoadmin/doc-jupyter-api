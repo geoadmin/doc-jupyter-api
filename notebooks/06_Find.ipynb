{
 "cells": [
  {
   "cell_type": "markdown",
   "metadata": {
    "jupyter": {
     "outputs_hidden": true
    }
   },
   "source": [
    "----------------------------- DOCUMENTATION -------------------------------------\n",
    "You can find this documentation at https://api3.geo.admin.ch/services/sdiservices.html#find"
   ]
  },
  {
   "cell_type": "markdown",
   "metadata": {},
   "source": [
    "\n",
    "Find\n",
    "\n",
    "This service is used to search the attributes of features. Each result include a feature ID, a layer ID, a layer name, a geometry (optionally) and attributes in the form of name-value pair. Here is a complete list of layers for which this service is available.\n",
    "URL\n",
    "\n",
    "https://api3.geo.admin.ch/rest/services/api/MapServer/find\n",
    "\n",
    "Input Parameters\n",
    "\n",
    "One layer, one search text and one attribute.\n",
    "Parameters \tDescription\n",
    "layer (required) \tA layer ID (only one layer at a time can be specified).\n",
    "searchText (required) \tThe text to search for (one can use numerical values as well).\n",
    "searchField (required) \tThe name of the field to search (only one search field can be searched at a time).\n",
    "contains (optional) \tIf false, the operation searches for an exact match of the searchText string. An exact match is case sensitive. Otherwise, it searches for a value that contains the searchText string provided. This search is not case sensitive. The default is true.\n",
    "geometryFormat (optional) \tReturned geometry format. Default to ESRI geometry format. Supported values are: “esrijson” or “geojson”.\n",
    "returnGeometry (optional) \tThis parameter defines whether the geometry is returned or not. Default to “true”.\n",
    "sr (optional) \tThe spatial reference. Supported values: 21781 (LV03), 2056 (LV95). Defaults to “21781”.\n",
    "lang (optional) \tThe language. Supported values: de, fr, it , rm, en. Defaults to “de”.\n",
    "layerDefs (optional) \tFilter features with an expression (see identify) Syntax: { “<layerId>” : “<layerDef1>”}\n",
    "callback (optional) \tThe name of the callback function.\n",
    "Examples\n",
    "\n",
    "    Search for “Lavaux” in the field “bln_name” of the layer “ch.bafu.bundesinventare-bln” (infix match): https://api3.geo.admin.ch/rest/services/api/MapServer/find?layer=ch.bafu.bundesinventare-bln&searchText=Lavaux&searchField=bln_name&returnGeometry=false\n",
    "    Search for “12316” in the field “egid” of the layer “ch.bfs.gebaeude_wohnungs_register” (infix match): https://api3.geo.admin.ch/rest/services/api/MapServer/find?layer=ch.bfs.gebaeude_wohnungs_register&searchText=123164&searchField=egid&returnGeometry=false\n",
    "    Search for “123164” in the field “egid” of the layer “ch.bfs.gebaeude_wohnungs_register” (exact match): https://api3.geo.admin.ch/rest/services/api/MapServer/find?layer=ch.bfs.gebaeude_wohnungs_register&searchText=1231641&searchField=egid&returnGeometry=false&contains=false\n",
    "    Search for the Talstrasse in Commune ‘Full-Reuenthal’: https://api3.geo.admin.ch/rest/services/api/MapServer/find?layer=ch.swisstopo.amtliches-strassenverzeichnis&searchText=Talstrasse&searchField=label&returnGeometry=false&contains=false&layerDefs={“ch.swisstopo.amtliches-strassenverzeichnis”: “gdenr = 4307”}\n",
    "\n"
   ]
  }
 ],
 "metadata": {
  "kernelspec": {
   "display_name": "Python 3",
   "language": "python",
   "name": "python3"
  },
  "language_info": {
   "codemirror_mode": {
    "name": "ipython",
    "version": 3
   },
   "file_extension": ".py",
   "mimetype": "text/x-python",
   "name": "python",
   "nbconvert_exporter": "python",
   "pygments_lexer": "ipython3",
   "version": "3.8.0"
  }
 },
 "nbformat": 4,
 "nbformat_minor": 4
}
