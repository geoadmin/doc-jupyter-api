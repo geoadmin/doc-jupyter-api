{
 "cells": [
  {
   "cell_type": "markdown",
   "metadata": {
    "jupyter": {
     "outputs_hidden": true
    }
   },
   "source": [
    "----------------------------- DOCUMENTATION -------------------------------------\n",
    "You can find this documentation at https://api3.geo.admin.ch/services/sdiservices.html#height"
   ]
  },
  {
   "cell_type": "markdown",
   "metadata": {},
   "source": [
    "\n",
    "Height\n",
    "\n",
    "This service allows to obtain elevation information for a point. See Height models for more details about data used by this service.\n",
    "\n",
    "Warning\n",
    "\n",
    "This service is not freely accessible (fee required). Please Contact us\n",
    "URL\n",
    "\n",
    "https://api3.geo.admin.ch/rest/services/height\n",
    "\n",
    "Input Parameters\n",
    "\n",
    "RESTFul interface is available.\n",
    "Parameters \tDescription\n",
    "easting (required) \tThe easting coordinate in LV03 (EPSG:21781) or LV95 (EPSG:2056)\n",
    "northing (required) \tThe northing coordinate in LV03 (EPSG:21781) or LV95 (EPSG:2056)\n",
    "elevation_model (optional) \tThe elevation model. Three elevation models are available DTM25, DTM2 (swissALTI3D) and COMB (a combination of DTM25 and DTM2). Default to “DTM25”.\n",
    "sr(optional) \tThe reference system to use (EPSG code). Valid values are 2056 (for LV95) and 21781 (for )LV03). If not given, trying to guess which one to use.\n",
    "callback (optional) \tThe name of the callback function.\n",
    "Examples\n",
    "\n",
    "    https://api3.geo.admin.ch/rest/services/height?easting=2600000&northing=1200000\n",
    "\n"
   ]
  }
 ],
 "metadata": {
  "kernelspec": {
   "display_name": "Python 3",
   "language": "python",
   "name": "python3"
  },
  "language_info": {
   "codemirror_mode": {
    "name": "ipython",
    "version": 3
   },
   "file_extension": ".py",
   "mimetype": "text/x-python",
   "name": "python",
   "nbconvert_exporter": "python",
   "pygments_lexer": "ipython3",
   "version": "3.8.0"
  }
 },
 "nbformat": 4,
 "nbformat_minor": 4
}
