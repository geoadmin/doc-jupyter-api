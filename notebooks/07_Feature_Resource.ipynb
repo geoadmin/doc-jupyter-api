{
 "cells": [
  {
   "cell_type": "markdown",
   "metadata": {
    "jupyter": {
     "outputs_hidden": true
    }
   },
   "source": [
    "----------------------------- DOCUMENTATION -------------------------------------\n",
    "You can find this documentation at https://api3.geo.admin.ch/services/sdiservices.html#feature-resource"
   ]
  },
  {
   "cell_type": "markdown",
   "metadata": {},
   "source": [
    "\n",
    "Feature Resource\n",
    "\n",
    "With an ID (or several in a comma separated list) and a layer ID (technical name), this service can be used to retrieve a feature resource. Here is a complete list of layers for which this service is available.\n",
    "URL\n",
    "\n",
    "https://api3.geo.admin.ch/rest/services/api/MapServer/{layerBodId}/{featureId},{featureId}\n",
    "\n",
    "Input Parameters\n",
    "\n",
    "RESTFul interface is available.\n",
    "Parameters \tDescription\n",
    "geometryFormat (optional) \tReturned geometry format. Default to ESRI geometry format. Supported values are: “esrijson” or “geojson”.\n",
    "returnGeometry (optional) \tThis parameter defines whether the geometry is returned or not. Default to “true”.\n",
    "sr (optional) \tThe spatial reference. Supported values: 21781 (LV03), 2056 (LV95). Defaults to “21781”.\n",
    "lang (optional) \tThe language. Supported values: de, fr, it , rm, en. Defaults to “de”.\n",
    "callback (optional) \tThe name of the callback function.\n",
    "Example\n",
    "\n",
    "    Get the feature with the ID RIG belonging to ch.bafu.nabelstationen: https://api3.geo.admin.ch/rest/services/api/MapServer/ch.bafu.nabelstationen/RIG\n",
    "    Get several features with IDs RIG and LAU belonging to ch.bafu.bundesinventar-bln: https://api3.geo.admin.ch/rest/services/api/MapServer/ch.bafu.nabelstationen/RIG,LAU\n",
    "\n"
   ]
  }
 ],
 "metadata": {
  "kernelspec": {
   "display_name": "Python 3",
   "language": "python",
   "name": "python3"
  },
  "language_info": {
   "codemirror_mode": {
    "name": "ipython",
    "version": 3
   },
   "file_extension": ".py",
   "mimetype": "text/x-python",
   "name": "python",
   "nbconvert_exporter": "python",
   "pygments_lexer": "ipython3",
   "version": "3.8.0"
  }
 },
 "nbformat": 4,
 "nbformat_minor": 4
}
