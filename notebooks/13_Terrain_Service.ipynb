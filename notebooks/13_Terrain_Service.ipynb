{
 "cells": [
  {
   "cell_type": "markdown",
   "metadata": {
    "jupyter": {
     "outputs_hidden": true
    }
   },
   "source": [
    "----------------------------- DOCUMENTATION -------------------------------------\n",
    "You can find this documentation at https://api3.geo.admin.ch/services/sdiservices.html#terrain-service"
   ]
  },
  {
   "cell_type": "markdown",
   "metadata": {},
   "source": [
    "\n",
    "Terrain Service\n",
    "\n",
    "A RESTFul implementation of “Cesium” Quantized Mesh terrain service. Terrain tiles are served according to the Tile Map Service (TMS) layout and global-geodetic profile. In order to access the terrain tiles, you require to fill a swisstopo web access - Inscription form (in German).\n",
    "URL\n",
    "\n",
    "    https://terrain0.geo.admin.ch\n",
    "    https://terrain1.geo.admin.ch\n",
    "    https://terrain2.geo.admin.ch\n",
    "    https://terrain3.geo.admin.ch\n",
    "    https://terrain4.geo.admin.ch\n",
    "\n",
    "Metadata Service\n",
    "\n",
    "The layer.json file determines which terrain tiles are available.\n",
    "\n",
    "    https://3d.geo.admin.ch/1.0.0/ch.swisstopo.terrain.3d/default/20180601/4326/layer.json\n",
    "\n",
    "Parameters\n",
    "\n",
    "A request is in the form:\n",
    "\n",
    "https://<ServerName>/<ProtocoleVersion>/ch.swisstopo.terrain.3d/<Stylename>/<Time>/<TileMatrixSetId>/<Zoom>/<X>/<Y>.<FormatExtension>\n",
    "\n",
    "with the following parameters:\n",
    "Parameter \tExample \tExplanation\n",
    "ServerName \tterrain[0-5].geo.admin.ch \t \n",
    "Version \t1.0.0 \tThe terrain service protocol version\n",
    "Layername \tch.swisstopo.terrain.3d (constant) \tThe name of the terrain layer. (only one terrain layer is available)\n",
    "StyleName \tdefault \tmostly constant\n",
    "Time \t2015311201 \tDate of tile generation in (ISO-8601).\n",
    "TileMatrixSet \t4326 (constant) \tEPSG code for WGS84\n",
    "TileSetId \t12 \tZoom level (see below)\n",
    "X \t4309 \tThe longitue index\n",
    "Y \t3111 \tThe latitude index\n",
    "FormatExtension \tterrain \tThe file extension (a gzipped binary terrain file)\n",
    "\n",
    "The <TileMatrixSet> 4326 is defined as follow:\n",
    "\n",
    "MinX              5.013926957923385\n",
    "MaxX              11.477436312994008\n",
    "MinY              45.35600133779394\n",
    "MaxY              48.27502358353741\n",
    "TileWidth         256\n",
    "\n",
    "With the <tileOrigin> in the bottom left corner of the bounding box.\n",
    "Resoultion [m/pixel at equator] \tZoomlevel \tAvailability\n",
    "78271.80469 \t0 \t[-180, -90, 90, 180]\n",
    "39135.90234 \t1 \t[-180, -90, 90, 180]\n",
    "19567.95117 \t2 \t[-180, -90, 90, 180]\n",
    "9783.975586 \t3 \t[-180, -90, 90, 180]\n",
    "4891.987793 \t4 \t[-180, -90, 90, 180]\n",
    "2445.993896 \t5 \t[-180, -90, 90, 180]\n",
    "1222.996948 \t6 \t[-180, -90, 90, 180]\n",
    "611.4984741 \t7 \t[-180, -90, 90, 180]\n",
    "305.749237 \t8 \tRanges as defined in the layer.json file\n",
    "152.8746185 \t9 \tRanges as defined in the layer.json file\n",
    "76.43730927 \t10 \tRanges as defined in the layer.json file\n",
    "38.21865463 \t11 \tRanges as defined in the layer.json file\n",
    "19.10932732 \t12 \tRanges as defined in the layer.json file\n",
    "9.554663658 \t13 \tRanges as defined in the layer.json file\n",
    "4.777331829 \t14 \tRanges as defined in the layer.json file\n",
    "2.388665915 \t15 \tRanges as defined in the layer.json file\n",
    "1.194332957 \t16 \tRanges as defined in the layer.json file\n",
    "0.597166479 \t17 \tRanges as defined in the layer.json file\n",
    "Example\n",
    "\n",
    "    A Terrain tile : https://terrain2.geo.admin.ch/1.0.0/ch.swisstopo.terrain.3d/default/20180601/4326/12/4309/970.terrain\n",
    "\n"
   ]
  }
 ],
 "metadata": {
  "kernelspec": {
   "display_name": "Python 3",
   "language": "python",
   "name": "python3"
  },
  "language_info": {
   "codemirror_mode": {
    "name": "ipython",
    "version": 3
   },
   "file_extension": ".py",
   "mimetype": "text/x-python",
   "name": "python",
   "nbconvert_exporter": "python",
   "pygments_lexer": "ipython3",
   "version": "3.8.0"
  }
 },
 "nbformat": 4,
 "nbformat_minor": 4
}
