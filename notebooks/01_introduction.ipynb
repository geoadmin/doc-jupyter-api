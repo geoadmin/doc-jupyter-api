{
 "cells": [
  {
   "cell_type": "markdown",
   "metadata": {},
   "source": []
  },
  {
   "cell_type": "markdown",
   "metadata": {},
   "source": [
    "First, we're going to import all libraries needed in this course. We are not going to use all of them on this page, but if an import statement fails, ask the course giver to come and check why this does not work as expected. \n",
    "If you used the docker image to run this course, you should have no problem on this page."
   ]
  },
  {
   "cell_type": "code",
   "execution_count": null,
   "metadata": {},
   "outputs": [],
   "source": [
    "import os\n",
    "import requests\n",
    "import pandas\n",
    "import geopandas"
   ]
  },
  {
   "cell_type": "markdown",
   "metadata": {},
   "source": [
    "Just in case you're not familiar with the different packages, here is what they're for : \n",
    "\tos is used to interact with the system underneath, mostly to read environment variables. \n",
    "\trequests helps with web queries. This is used to connect to the geoadmin REST api.\n",
    "\tpandas is a library specialized in structuring and analyzing data.\n",
    "\t"
   ]
  },
  {
   "cell_type": "markdown",
   "metadata": {},
   "source": [
    "Now, we'll check if we have all necessary environment variables set.\n",
    "The expected output should be : \n"
   ]
  },
  {
   "cell_type": "code",
   "execution_count": null,
   "metadata": {},
   "outputs": [],
   "source": [
    "print(\"placeholder\")"
   ]
  },
  {
   "cell_type": "markdown",
   "metadata": {},
   "source": [
    "Now that we know the python libraries needed are imported, and that our environment variables are set, we need to check if we can connect to the swisstopo api. To do that, we'll use the request library and try to make a GET query to one of the API rest endpoint. We only care about the status code received here (we're not going to manipulate any data of any kind)"
   ]
  },
  {
   "cell_type": "code",
   "execution_count": null,
   "metadata": {},
   "outputs": [],
   "source": [
    "from requests.exceptions import HTTPError\n",
    "try:\n",
    "    api_response = requests.get(\"https://api3.geo.admin.ch/rest/services/api/MapServer\")\n",
    "    api_response.raise_for_status()  # If the query was successful, no exception will be raised\n",
    "    print('No errors')\n",
    "except HTTPError as http_error:\n",
    "    print(f'HTTP error occured. Status Code for GET query : {http_error}')\n",
    "except Exception as e:\n",
    "    print(f'Another unknown error occured : {e}')\n"
   ]
  },
  {
   "cell_type": "markdown",
   "metadata": {},
   "source": [
    "This is it for now."
   ]
  }
 ],
 "metadata": {
  "kernelspec": {
   "display_name": "Python 3",
   "language": "python",
   "name": "python3"
  },
  "language_info": {
   "codemirror_mode": {
    "name": "ipython",
    "version": 3
   },
   "file_extension": ".py",
   "mimetype": "text/x-python",
   "name": "python",
   "nbconvert_exporter": "python",
   "pygments_lexer": "ipython3",
   "version": "3.8.0"
  }
 },
 "nbformat": 4,
 "nbformat_minor": 4
}
