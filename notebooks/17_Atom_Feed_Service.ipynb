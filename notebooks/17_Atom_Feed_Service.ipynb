{
 "cells": [
  {
   "cell_type": "markdown",
   "metadata": {
    "jupyter": {
     "outputs_hidden": true
    }
   },
   "source": [
    "----------------------------- DOCUMENTATION -------------------------------------\n",
    "You can find this documentation at https://api3.geo.admin.ch/services/sdiservices.html#atom-feed-open-search-download-service"
   ]
  },
  {
   "cell_type": "markdown",
   "metadata": {},
   "source": [
    "Atom Feed / Open Search Download Service\n",
    "\n",
    "This service enables the download of datasets conforming to the INSPIRE Data Specifications. It is implemented as an Atom Feed / Open Search service according to the Technical Guidance for the implementation of INSPIRE Download Services.\n",
    "URL\n",
    "\n",
    "https://atom.geo.admin.ch/inspire/service.xml - Service Feed\n",
    "https://atom.geo.admin.ch/inspire/search/opensearchdescription.xml - Open Search Description Document\n",
    "https://atom.geo.admin.ch/inspire/search?q={} - Search Interface\n",
    "\n",
    "Available datasets\n",
    "\n",
    "    Administrative units : https://www.geocat.ch/geonetwork/srv/eng/catalog.search#/metadata/fc2c80e5-fc87-415a-ac05-b2520957d155\n",
    "    Geographical Names : https://www.geocat.ch/geonetwork/srv/eng/catalog.search#/metadata/e81d4df0-52c8-4258-a38b-96f6761c976b\n",
    "\n",
    "Examples\n",
    "\n",
    "    Get a Dataset Feed (Describe Spatial Data Set Operation) (code and namespace to be found in the Open Search Description Document) : https://atom.geo.admin.ch/inspire/search?spatial_dataset_identifier_code=e81d4df0-52c8-4258-a38b-96f6761c976b&spatial_dataset_identifier_namespace=http://www.swisstopo.ch/\n",
    "    Get a dataset (Get Spatial Data Set Operation) (code, namespace and crs to be found in the Open Search Description Document) : https://atom.geo.admin.ch/inspire/search?spatial_dataset_identifier_code=e81d4df0-52c8-4258-a38b-96f6761c976b&spatial_dataset_identifier_namespace=http://www.swisstopo.ch/&crs=http://www.opengis.net/def/crs/EPSG/0/3857\n",
    "    Search for all available downloads : https://atom.geo.admin.ch/inspire/search?q=inspire\n",
    "\n"
   ]
  }
 ],
 "metadata": {
  "kernelspec": {
   "display_name": "Python 3",
   "language": "python",
   "name": "python3"
  },
  "language_info": {
   "codemirror_mode": {
    "name": "ipython",
    "version": 3
   },
   "file_extension": ".py",
   "mimetype": "text/x-python",
   "name": "python",
   "nbconvert_exporter": "python",
   "pygments_lexer": "ipython3",
   "version": "3.8.0"
  }
 },
 "nbformat": 4,
 "nbformat_minor": 4
}
