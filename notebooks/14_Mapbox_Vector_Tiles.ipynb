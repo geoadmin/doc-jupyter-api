{
 "cells": [
  {
   "cell_type": "markdown",
   "metadata": {
    "jupyter": {
     "outputs_hidden": true
    }
   },
   "source": [
    "----------------------------- DOCUMENTATION -------------------------------------\n",
    "You can find this documentation at https://api3.geo.admin.ch/services/sdiservices.html#mapbox-vector-tiles"
   ]
  },
  {
   "cell_type": "markdown",
   "metadata": {},
   "source": [
    "\n",
    "Mapbox Vector Tiles\n",
    "\n",
    "A RESTFul implementation of Mapbox Vector Tiles. For the testing phase, the service is free for use. See conditions conditions\n",
    "\n",
    "The service provides both tiles and styles that the customer can use.\n",
    "GetTile\n",
    "\n",
    "A tile request is in the following form:\n",
    "\n",
    "<Scheme>://<ServerName>/mbtiles/<LayerName>/<version>/<zoomlevel>/<x>/<y>.pbf\n",
    "\n",
    "example of one pbf tile:\n",
    "\n",
    "    https://vectortiles.geo.admin.ch/mbtiles/ch.swisstopo.leichte-basiskarte.vt/v006/7/67/44.pbf\n",
    "\n",
    "GetStyle\n",
    "\n",
    "A style request is in the following form:\n",
    "\n",
    "<Scheme>://<ServerName>/gl-styles/<layername>/<version>/style.json\n",
    "\n",
    "example of a mapbox style:\n",
    "\n",
    "    https://vectortiles.geo.admin.ch/gl-styles/ch.swisstopo.leichte-basiskarte.vt/v006/style.json\n",
    "\n",
    "Available datasets and styles as mapbox vector tiles\n",
    "\n",
    "The list of current datasets and styles is available visiting the official service description\n",
    "Metadata Service\n",
    "\n",
    "Each tileset has a corresponding metatda json file that describes the available set of tiles. The URL of the metadata json file is :\n",
    "\n",
    "<Scheme>://<ServerName>/mbtiles/<LayerName>/<version>.json\n",
    "\n",
    "example of tileset:\n",
    "\n",
    "    https://vectortiles.geo.admin.ch/mbtiles/ch.swisstopo.leichte-basiskarte.vt/v006.json\n",
    "\n"
   ]
  }
 ],
 "metadata": {
  "kernelspec": {
   "display_name": "Python 3",
   "language": "python",
   "name": "python3"
  },
  "language_info": {
   "codemirror_mode": {
    "name": "ipython",
    "version": 3
   },
   "file_extension": ".py",
   "mimetype": "text/x-python",
   "name": "python",
   "nbconvert_exporter": "python",
   "pygments_lexer": "ipython3",
   "version": "3.8.0"
  }
 },
 "nbformat": 4,
 "nbformat_minor": 4
}
