{
 "cells": [
  {
   "cell_type": "markdown",
   "metadata": {
    "jupyter": {
     "outputs_hidden": true
    }
   },
   "source": [
    "----------------------------- DOCUMENTATION -------------------------------------\n",
    "You can find this documentation at https://api3.geo.admin.ch/services/sdiservices.html#profile"
   ]
  },
  {
   "cell_type": "markdown",
   "metadata": {},
   "source": [
    "Profile\n",
    "\n",
    "This service allows to obtain elevation information for a polyline in CSV format. See Height models for more details about data used by this service.\n",
    "\n",
    "Warning\n",
    "\n",
    "This service is not freely accessible (fee required).** Please Contact us\n",
    "URL\n",
    "\n",
    "https://api3.geo.admin.ch/rest/services/profile.json (for json format)\n",
    "https://api3.geo.admin.ch/rest/services/profile.csv  (for a csv)\n",
    "\n",
    "Input Parameters\n",
    "\n",
    "RESTFul interface is available.\n",
    "Parameters \tDescription\n",
    "geom (required) \tA GeoJSON representation of a polyline (type = LineString). The LineString should not have more than 6’000 coordinates.\n",
    "sr (optional) \tThe reference system to use (EPSG code). Valid value are 2056 (for LV95) and 21781 (for LV03). Strongly advised to set one, but if not given, trying to guess which one to use.\n",
    "elevation_models (optional) \tA comma separated list of elevation models. Three elevation models are available DTM25, DTM2 (swissALTI3D) and COMB (a combination of DTM25 and DTM2). Default to “DTM25”.\n",
    "nb_points (optional) \tThe number of points used for the polyline segmentation. Default “200”.\n",
    "offset (optional) \tThe offset value (INTEGER) in order to use the exponential moving algorithm . For a given value the offset value specify the number of values before and after used to calculate the average.\n",
    "callback (optional) \tOnly available for profile.json. The name of the callback function.\n",
    "Example\n",
    "\n",
    "    A profile in JSON: https://api3.geo.admin.ch/rest/services/profile.json?geom={“type”%3A”LineString”%2C”coordinates”%3A[[2550050%2C1206550]%2C[2556950%2C1204150]%2C[2561050%2C1207950]]}&sr=2056\n",
    "    A profile in CSV: https://api3.geo.admin.ch/rest/services/profile.csv?geom={“type”%3A”LineString”%2C”coordinates”%3A[[2550050%2C1206550]%2C[2556950%2C1204150]%2C[2561050%2C1207950]]}&sr=2056\n"
   ]
  }
 ],
 "metadata": {
  "kernelspec": {
   "display_name": "Python 3",
   "language": "python",
   "name": "python3"
  },
  "language_info": {
   "codemirror_mode": {
    "name": "ipython",
    "version": 3
   },
   "file_extension": ".py",
   "mimetype": "text/x-python",
   "name": "python",
   "nbconvert_exporter": "python",
   "pygments_lexer": "ipython3",
   "version": "3.8.0"
  }
 },
 "nbformat": 4,
 "nbformat_minor": 4
}
