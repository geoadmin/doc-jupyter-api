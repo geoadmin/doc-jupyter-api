{
 "cells": [
  {
   "cell_type": "markdown",
   "metadata": {
    "jupyter": {
     "outputs_hidden": true
    }
   },
   "source": [
    "----------------------------- DOCUMENTATION -------------------------------------\n",
    "You can find this documentation at https://api3.geo.admin.ch/services/sdiservices.html#layer-attributes too"
   ]
  },
  {
   "cell_type": "markdown",
   "metadata": {},
   "source": [
    "\n",
    "**Layer Attributes\n",
    "\n",
    "This service is used to expose the attributes names that are specific to a layer. This service is especially useful when combined with the find service.\n",
    "URL\n",
    "\n",
    "https://api3.geo.admin.ch/rest/services/api/MapServer/{layerBodId}\n",
    "\n",
    "**Input Parameters\n",
    "\n",
    "RESTFul interface is available.\n",
    "\n",
    "**Parameters \tDescription\n",
    "\n",
    "*lang (optional) \tThe language. Supported values: de, fr, it , rm, en. (Defaults to de if browser language does not match any of the possible values)\n",
    "*callback (optional) \tThe name of the callback function.\n",
    "\n",
    "**Example \n",
    "\n",
    "Get the all the available attributes names of the municipal boundaries: https://api3.geo.admin.ch/rest/services/api/MapServer/ch.swisstopo.swissboundaries3d-gemeinde-flaeche.fill\n"
   ]
  },
  {
   "cell_type": "code",
   "execution_count": 2,
   "metadata": {},
   "outputs": [],
   "source": [
    "import os\n",
    "import requests\n",
    "import pandas\n",
    "import json"
   ]
  },
  {
   "cell_type": "code",
   "execution_count": 3,
   "metadata": {},
   "outputs": [
    {
     "name": "stdout",
     "output_type": "stream",
     "text": [
      "https://api3.geo.admin.ch/rest/services/api/MapServer/ch.swisstopo.swissboundaries3d-gemeinde-flaeche.fill\n"
     ]
    }
   ],
   "source": [
    "layer_id = 'ch.swisstopo.swissboundaries3d-gemeinde-flaeche.fill'\n",
    "url = f'https://api3.geo.admin.ch/rest/services/api/MapServer/{layer_id}'\n",
    "parameters = {\n",
    "    'lang': None, \n",
    "    'callback': None}\n",
    "response = requests.get(url, parameters)\n",
    "try:\n",
    "    print(response.url)\n",
    "    response.raise_for_status()\n",
    "except HTTPError as http_error:\n",
    "    print(http_error)"
   ]
  },
  {
   "cell_type": "code",
   "execution_count": 4,
   "metadata": {},
   "outputs": [
    {
     "data": {
      "text/html": [
       "<div>\n",
       "<style scoped>\n",
       "    .dataframe tbody tr th:only-of-type {\n",
       "        vertical-align: middle;\n",
       "    }\n",
       "\n",
       "    .dataframe tbody tr th {\n",
       "        vertical-align: top;\n",
       "    }\n",
       "\n",
       "    .dataframe thead th {\n",
       "        text-align: right;\n",
       "    }\n",
       "</style>\n",
       "<table border=\"1\" class=\"dataframe\">\n",
       "  <thead>\n",
       "    <tr style=\"text-align: right;\">\n",
       "      <th></th>\n",
       "      <th>values</th>\n",
       "      <th>alias</th>\n",
       "      <th>type</th>\n",
       "      <th>name</th>\n",
       "    </tr>\n",
       "  </thead>\n",
       "  <tbody>\n",
       "    <tr>\n",
       "      <th>0</th>\n",
       "      <td>Breggia</td>\n",
       "      <td>Name</td>\n",
       "      <td>VARCHAR</td>\n",
       "      <td>gemname</td>\n",
       "    </tr>\n",
       "    <tr>\n",
       "      <th>1</th>\n",
       "      <td>Chessel</td>\n",
       "      <td>Name</td>\n",
       "      <td>VARCHAR</td>\n",
       "      <td>gemname</td>\n",
       "    </tr>\n",
       "    <tr>\n",
       "      <th>2</th>\n",
       "      <td>Gempen</td>\n",
       "      <td>Name</td>\n",
       "      <td>VARCHAR</td>\n",
       "      <td>gemname</td>\n",
       "    </tr>\n",
       "    <tr>\n",
       "      <th>3</th>\n",
       "      <td>Losone</td>\n",
       "      <td>Name</td>\n",
       "      <td>VARCHAR</td>\n",
       "      <td>gemname</td>\n",
       "    </tr>\n",
       "    <tr>\n",
       "      <th>4</th>\n",
       "      <td>Niederrohrdorf</td>\n",
       "      <td>Name</td>\n",
       "      <td>VARCHAR</td>\n",
       "      <td>gemname</td>\n",
       "    </tr>\n",
       "  </tbody>\n",
       "</table>\n",
       "</div>"
      ],
      "text/plain": [
       "           values alias     type     name\n",
       "0         Breggia  Name  VARCHAR  gemname\n",
       "1         Chessel  Name  VARCHAR  gemname\n",
       "2          Gempen  Name  VARCHAR  gemname\n",
       "3          Losone  Name  VARCHAR  gemname\n",
       "4  Niederrohrdorf  Name  VARCHAR  gemname"
      ]
     },
     "execution_count": 4,
     "metadata": {},
     "output_type": "execute_result"
    }
   ],
   "source": [
    "r_dict = response.json()\n",
    "pandas.DataFrame(r_dict['fields'][0])"
   ]
  },
  {
   "cell_type": "code",
   "execution_count": 5,
   "metadata": {},
   "outputs": [
    {
     "name": "stdout",
     "output_type": "stream",
     "text": [
      "{'fields': [{'values': ['Breggia', 'Chessel', 'Gempen', 'Losone', 'Niederrohrdorf'], 'alias': 'Name', 'type': 'VARCHAR', 'name': 'gemname'}, {'values': [2474, 4035, 5115, 5269, 5403], 'alias': 'BFS-Nummer', 'type': 'INTEGER', 'name': 'id'}], 'id': 'ch.swisstopo.swissboundaries3d-gemeinde-flaeche.fill', 'name': 'Gemeindegrenzen'}\n"
     ]
    }
   ],
   "source": [
    "print(r_dict)"
   ]
  },
  {
   "cell_type": "code",
   "execution_count": null,
   "metadata": {},
   "outputs": [],
   "source": []
  }
 ],
 "metadata": {
  "kernelspec": {
   "display_name": "Python 3",
   "language": "python",
   "name": "python3"
  },
  "language_info": {
   "codemirror_mode": {
    "name": "ipython",
    "version": 3
   },
   "file_extension": ".py",
   "mimetype": "text/x-python",
   "name": "python",
   "nbconvert_exporter": "python",
   "pygments_lexer": "ipython3",
   "version": "3.8.0"
  }
 },
 "nbformat": 4,
 "nbformat_minor": 4
}
