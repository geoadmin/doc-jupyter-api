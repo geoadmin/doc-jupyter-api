{
 "cells": [
  {
   "cell_type": "markdown",
   "metadata": {
    "jupyter": {
     "outputs_hidden": true
    }
   },
   "source": [
    "----------------------------- DOCUMENTATION -------------------------------------\n",
    "You can find this documentation at https://api3.geo.admin.ch/services/sdiservices.html#legend-resource"
   ]
  },
  {
   "cell_type": "markdown",
   "metadata": {},
   "source": [
    "\n",
    "Legend Resource\n",
    "\n",
    "With a layer ID (or technical name), this service can be used to retrieve a legend.\n",
    "URL\n",
    "\n",
    "https://api3.geo.admin.ch/rest/services/api/MapServer/{layerBodId}/legend\n",
    "\n",
    "Input Parameters\n",
    "\n",
    "No css styling is provided per default so that you can use your own.\n",
    "Parameters \tDescription\n",
    "lang (optional) \tThe language. Supported values: de, fr, it , rm, en. (Defaults to de if browser language does not match any of the possible values)\n",
    "callback (optional) \tThe name of the callback function.\n",
    "Example\n",
    "\n",
    "    Get the legend for ch.bafu.nabelstationen: https://api3.geo.admin.ch/rest/services/api/MapServer/ch.bafu.nabelstationen/legend\n",
    "    Get the same legend using JSONP: https://api3.geo.admin.ch/rest/services/api/MapServer/ch.bafu.nabelstationen/legend?callback=callback\n",
    "\n"
   ]
  }
 ],
 "metadata": {
  "kernelspec": {
   "display_name": "Python 3",
   "language": "python",
   "name": "python3"
  },
  "language_info": {
   "codemirror_mode": {
    "name": "ipython",
    "version": 3
   },
   "file_extension": ".py",
   "mimetype": "text/x-python",
   "name": "python",
   "nbconvert_exporter": "python",
   "pygments_lexer": "ipython3",
   "version": "3.8.0"
  }
 },
 "nbformat": 4,
 "nbformat_minor": 4
}
