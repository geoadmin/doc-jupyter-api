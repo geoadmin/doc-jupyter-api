{
 "cells": [
  {
   "cell_type": "markdown",
   "metadata": {
    "jupyter": {
     "outputs_hidden": true
    }
   },
   "source": [
    "----------------------------- DOCUMENTATION -------------------------------------\n",
    "You can find this documentation at https://api3.geo.admin.ch/services/sdiservices.html#legend-resource"
   ]
  },
  {
   "cell_type": "markdown",
   "metadata": {},
   "source": [
    "\n",
    "**Legend Resource\n",
    "\n",
    "With a layer ID (or technical name), this service can be used to retrieve a legend.\n",
    "URL\n",
    "\n",
    "https://api3.geo.admin.ch/rest/services/api/MapServer/{layerBodId}/legend\n",
    "\n",
    "**Input Parameters\n",
    "\n",
    "No css styling is provided per default so that you can use your own.\n",
    "Parameters \tDescription\n",
    "lang (optional) \tThe language. Supported values: de, fr, it , rm, en. (Defaults to de if browser language does not match any of the possible values)\n",
    "callback (optional) \tThe name of the callback function.\n",
    "**Example\n",
    "\n",
    "    Get the legend for ch.bafu.nabelstationen: https://api3.geo.admin.ch/rest/services/api/MapServer/ch.bafu.nabelstationen/legend\n",
    "    Get the same legend using JSONP: https://api3.geo.admin.ch/rest/services/api/MapServer/ch.bafu.nabelstationen/legend?callback=callback\n",
    "\n"
   ]
  },
  {
   "cell_type": "markdown",
   "metadata": {},
   "source": [
    "The legends endpoint provide an html output with no css, and in this example, we're going to display it as browser-rendered html. "
   ]
  },
  {
   "cell_type": "code",
   "execution_count": 23,
   "metadata": {},
   "outputs": [],
   "source": [
    "import requests\n",
    "from IPython.display import display, HTML"
   ]
  },
  {
   "cell_type": "code",
   "execution_count": 26,
   "metadata": {},
   "outputs": [],
   "source": [
    "layer_id = 'ch.bafu.nabelstationen'\n",
    "url = f'https://api3.geo.admin.ch/rest/services/api/MapServer/{layer_id}/legend' # if you did not know about f-strings beforehand, I would advise for using them in any project using python at least python 3.7\n",
    "\n",
    "parameters = {\n",
    "    'lang': 'it', # None is also acceptable of course, but I felt like showing an example in Italian. \n",
    "    'callback': None}"
   ]
  },
  {
   "cell_type": "code",
   "execution_count": 28,
   "metadata": {},
   "outputs": [
    {
     "name": "stdout",
     "output_type": "stream",
     "text": [
      "https://api3.geo.admin.ch/rest/services/api/MapServer/ch.bafu.nabelstationen/legend?lang=it 200\n"
     ]
    }
   ],
   "source": [
    "r=requests.get(url, parameters)\n",
    "print(r.url, r.status_code)"
   ]
  },
  {
   "cell_type": "code",
   "execution_count": 29,
   "metadata": {},
   "outputs": [
    {
     "data": {
      "text/html": [
       "\n",
       "\n",
       "<div class=\"legend-container\">\n",
       "<div class=\"legend-header\">\n",
       "  <p class='bod-title'><span>Rete nazionale d&#39;osservazione degli inquinanti atmosferici NABEL: stazioni</span> (Ufficio federale dell&#39;ambiente UFAM)</p>\n",
       "  <p class='legend-abstract'>La Rete nazionale d'osservazione degli inquinanti atmosferici (NABEL) misura l'inquinamento dell'aria in Svizzera sulla base di dati rilevati in 16 località. Le stazioni sono distribuite sull'insieme del territorio e misurano il carico d'inquinanti in luoghi tipici (per es. strade del centro città, zone residenziali, campagna). Le stazioni della rete NABEL rappresentano, a seconda del tipo di ubicazione, diverse situazioni di inquinamento. La qualità dell'aria dovrebbe pertanto essere valutata principalmente in base al tipo di ubicazione e non secondo la posizione geografica della stazione.</p>\n",
       "</div>\n",
       "<div class=\"legend-footer\">\n",
       "  <br>\n",
       "  <span>Legenda</span><br>\n",
       "  <div class=\"img-container\">\n",
       "    <img src=//api3.geo.admin.ch/static/images/legends/ch.bafu.nabelstationen_it.png alt=\"layer legend img\"/>\n",
       "  </div>\n",
       "  <br><br>\n",
       "  <span>Informazioni</span><br>\n",
       "  <table>\n",
       "    <tr><td>ID geodati di base</td> <td>121.1</td></tr>\n",
       "    <tr><td>Selezione della scala dei valori</td> <td>-</td></tr>\n",
       "    <tr><td>Metadati</td>\n",
       "    <td><a target=\"_blank\" href=\"https://www.geocat.ch/geonetwork/srv/ita/md.viewer#/full_view/14de1375-09ae-42b4-9592-5f0af091d050/tab/complete\">\n",
       "      Link per geocat.ch</a></td>\n",
       "    </tr>\n",
       "    <tr>\n",
       "      <td>Descrizione dettagliata</td>\n",
       "      <td><a href=\"https://www.bafu.admin.ch/bafu/de/home/themen/luft/zustand/daten.html\" target=\"new\">Link per la descrizione dei dettagli</a></td>\n",
       "    </tr>\n",
       "    <tr>\n",
       "      <td>Distribuzione dei dati</td>\n",
       "      <td><a href=\"https://www.bafu.admin.ch/bafu/de/home/zustand/daten/geodaten/geodaten.html\" target=\"new\">Link per le fonti dei dati</a></td>\n",
       "    </tr>\n",
       "    <tr>\n",
       "      <td>Geoportale tematico</td>\n",
       "      <td><a href=\"http://map.bafu.admin.ch\" target=\"new\">Link per il portale</a></td>\n",
       "    </tr>\n",
       "    <tr>\n",
       "      <td>Servizio WMS</td>\n",
       "      <td><a href=\"https://wms.geo.admin.ch/?REQUEST=GetCapabilities&amp;SERVICE=WMS&amp;VERSION=1.0.0\" target=\"new\">Link verso WMS</a></td>\n",
       "    </tr>\n",
       "    <tr>\n",
       "      <td>Stato d&#39;attualità</td>\n",
       "      <td>09.03.2011</td>\n",
       "    </tr>\n",
       "  </table>\n",
       "</div>\n",
       "</div>\n"
      ],
      "text/plain": [
       "<IPython.core.display.HTML object>"
      ]
     },
     "metadata": {},
     "output_type": "display_data"
    }
   ],
   "source": [
    "display(HTML(r.text)) # If you need the raw HTML in your application, don't bother using the display and HTML functions"
   ]
  }
 ],
 "metadata": {
  "kernelspec": {
   "display_name": "Python 3",
   "language": "python",
   "name": "python3"
  },
  "language_info": {
   "codemirror_mode": {
    "name": "ipython",
    "version": 3
   },
   "file_extension": ".py",
   "mimetype": "text/x-python",
   "name": "python",
   "nbconvert_exporter": "python",
   "pygments_lexer": "ipython3",
   "version": "3.8.0"
  }
 },
 "nbformat": 4,
 "nbformat_minor": 4
}
