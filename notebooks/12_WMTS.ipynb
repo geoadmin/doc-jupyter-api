{
 "cells": [
  {
   "cell_type": "markdown",
   "metadata": {
    "jupyter": {
     "outputs_hidden": true
    }
   },
   "source": [
    "----------------------------- DOCUMENTATION -------------------------------------\n",
    "You can find this documentation at https://api3.geo.admin.ch/services/sdiservices.html#wmts"
   ]
  },
  {
   "cell_type": "markdown",
   "metadata": {},
   "source": [
    "WMTS\n",
    "\n",
    "A RESTFul implementation of the WMTS OGC standard. For detailed information, see WMTS OGC standard\n",
    "\n",
    "Warning\n",
    "\n",
    "In order to have access to the WMTS, you require to register to swisstopo web access - Inscription form (in German), even if most layers are free to use. See Which layers are available ? for a list of all available layers.\n",
    "\n",
    "Note\n",
    "\n",
    "Only the RESTFul request encoding to GetTile is implemented, not the GetLegend and GetFeatureInfo. No KVP and SOAP request encoding is supported.\n",
    "GetCapabilities\n",
    "\n",
    "The GetCapabilites document provides informations about the service, along with layer description, both in german and french.\n",
    "\n",
    "https://wmts.geo.admin.ch/1.0.0/WMTSCapabilities.xml\n",
    "\n",
    "https://wmts.geo.admin.ch/1.0.0/WMTSCapabilities.xml?lang=fr\n",
    "GetTile\n",
    "\n",
    "<Scheme>://<ServerName>/<ProtocoleVersion>/<LayerName>/<Stylename>/<Time>/<TileMatrixSet>/<TileSetId>/<TileRow>/<TileCol>.<FormatExtension>\n",
    "\n",
    "with the following parameters:\n",
    "Parameter \tExample \tExplanation\n",
    "Scheme \thttp or https \tThe scheme type\n",
    "ServerName \twmts[0-9].geo.admin.ch \t \n",
    "Version \t1.0.0 \tWMTS protocol version\n",
    "Layername \tch.bfs.arealstatistik-1997 \tSee the WMTS GetCapabilities document.\n",
    "StyleName \tdefault \tOnly default is supported.\n",
    "Time \t2010, 2010-01 \tDate of tile generation in (ISO-8601) or logical value like current. A list of available values is provided in the GetCapabilities document under the <Dimension> tag. We recommend to use the value under the <Default> tag. Note that these values might change frequently - check for updates regularly.\n",
    "TileMatrixSet \t2056 (constant) \tEPSG code for LV03/CH1903\n",
    "TileSetId \t22 \tZoom level (see below)\n",
    "TileRow \t236 \t \n",
    "TileCol \t284 \t \n",
    "FormatExtension \tpng \tMostly png, except for some raster layer (pixelkarte and swissimage)\n",
    "\n",
    "The <TileMatrixSet> 21781 is as follow defined:\n",
    "\n",
    "MinX              420000\n",
    "MaxX              900000\n",
    "MinY               30000\n",
    "MaxY              350000\n",
    "TileWidth            256\n",
    "\n",
    "With the <tileOrigin> in the top left corner of the bounding box.\n",
    "Resolution [m] \tZoomlevel \tMap zoom \tTile width m \tTiles X \tTiles Y \tTiles \tApprox. scale at 96 dpi per zoom level\n",
    "4000 \t0 \t  \t1024000 \t1 \t1 \t1 \t \n",
    "3750 \t1 \t  \t960000 \t1 \t1 \t1 \t \n",
    "3500 \t2 \t  \t896000 \t1 \t1 \t1 \t \n",
    "3250 \t3 \t  \t832000 \t1 \t1 \t1 \t \n",
    "3000 \t4 \t  \t768000 \t1 \t1 \t1 \t \n",
    "2750 \t5 \t  \t704000 \t1 \t1 \t1 \t \n",
    "2500 \t6 \t  \t640000 \t1 \t1 \t1 \t \n",
    "2250 \t7 \t  \t576000 \t1 \t1 \t1 \t \n",
    "2000 \t8 \t  \t512000 \t1 \t1 \t1 \t \n",
    "1750 \t9 \t  \t448000 \t2 \t1 \t2 \t \n",
    "1500 \t10 \t  \t384000 \t2 \t1 \t2 \t \n",
    "1250 \t11 \t  \t320000 \t2 \t1 \t2 \t \n",
    "1000 \t12 \t  \t256000 \t2 \t2 \t4 \t \n",
    "750 \t13 \t  \t192000 \t3 \t2 \t6 \t \n",
    "650 \t14 \t0 \t166400 \t3 \t2 \t6 \t1 : 2’456’694\n",
    "500 \t15 \t1 \t128000 \t4 \t3 \t12 \t1 : 1’889’765\n",
    "250 \t16 \t2 \t64000 \t8 \t5 \t40 \t1 : 944’882\n",
    "100 \t17 \t3 \t25600 \t19 \t13 \t247 \t1 : 377’953\n",
    "50 \t18 \t4 \t12800 \t38 \t25 \t950 \t1 : 188’976\n",
    "20 \t19 \t5 \t5120 \t94 \t63 \t5’922 \t1 : 75’591\n",
    "10 \t20 \t6 \t2560 \t188 \t125 \t23’500 \t1 : 37’795\n",
    "5 \t21 \t7 \t1280 \t375 \t250 \t93’750 \t1 : 18’898\n",
    "2.5 \t22 \t8 \t640 \t750 \t500 \t375’000 \t1 : 9’449\n",
    "2 \t23 \t9 \t512 \t938 \t625 \t586’250 \t1 : 7’559\n",
    "1.5 \t24 \t  \t384 \t1250 \t834 \t1’042’500 \t \n",
    "1 \t25 \t10 \t256 \t1875 \t1250 \t2’343’750 \t1 : 3’780\n",
    "0.5 \t26 \t11 \t128 \t3750 \t2500 \t9’375’000 \t1 : 1’890\n",
    "0.25 \t27 \t12 \t64 \t7500 \t5000 \t37’500’000 \t1 : 945\n",
    "0.1 \t28 \t13 \t25.6 \t18750 \t12500 \t234’375’000 \t1 : 378\n",
    "\n",
    "Notes\n",
    "\n",
    "    The projection for the tiles is LV95 (EPSG:2056). Other projection are supported, see further down.\n",
    "    The tiles are generated on-the-fly and stored in a cache (hundreds of requests per second)\n",
    "    The zoom level 24 (resolution 1.5m) has been generated, but is not currently used in the API.\n",
    "    The zoom levels 27 and 28 (resolution 0.25m and 0.1m) are only available for a few layers, e.g. swissimage or cadastral web map. For the others layers it is only a client zoom (tiles are stretched).\n",
    "    You have to use the <ResourceURL> to construct the GetTile request.\n",
    "    Axis order: for historical reasons, EPSG:21781 WMTS tiles use the non-standard row/col order, while all other projections use the usual col/row order. However, most desktop GIS allow you to either use the advertized order or to override it.\n",
    "    The tiles of a given layer might be updated withtout resulting in a new <Time> dimension in the GetCapabilities dimension. In case your application is caching tiles locally, you need to invalidate your local cache for this layer. To check the latest change of any layer, use the Cache Update service.\n",
    "\n",
    "Result\n",
    "\n",
    "A tile.\n",
    "\n",
    "http://wmts.geo.admin.ch/1.0.0/ch.swisstopo.pixelkarte-farbe/default/20110401/21781/20/58/70.jpeg\n",
    "\n",
    "or https://wmts.geo.admin.ch/1.0.0/ch.swisstopo.pixelkarte-farbe/default/20110401/21781/20/58/70.jpeg\n"
   ]
  },
  {
   "cell_type": "code",
   "execution_count": null,
   "metadata": {},
   "outputs": [],
   "source": [
    "https://api3.geo.admin.ch/services/sdiservices.html#supported-projections"
   ]
  },
  {
   "cell_type": "markdown",
   "metadata": {},
   "source": [
    "\n",
    "Supported projections\n",
    "\n",
    "Four projections are supported. The same tiles are offered in four other tilematrixsets/projection.\n",
    "\n",
    "    LV95/CH1903+ (EPSG:2056)\n",
    "        https://wmts.geo.admin.ch/EPSG/2056/1.0.0/WMTSCapabilities.xml\n",
    "\n",
    "    LV03/CH1903 (EPSG:21781)\n",
    "        https://wmts.geo.admin.ch/EPSG/21781/1.0.0/WMTSCapabilities.xml\n",
    "\n",
    "    Plate-Carrée WGS1984 (EPSG:4326)\n",
    "        https://wmts.geo.admin.ch/EPSG/4326/1.0.0/WMTSCapabilities.xml\n",
    "\n",
    "    WGS84/Pseudo-Mercator (EPSG:3857, as used in OSM, Bing, Google Map)\n",
    "        https://wmts.geo.admin.ch/EPSG/3857/1.0.0/WMTSCapabilities.xml\n",
    "\n",
    "Note:\n",
    "\n",
    "    Partly due to a limitation of the WTMS 1.0.0 recommendations, each projection has its own GetCapabilities document.\n",
    "    The same access restrictions apply as above.\n",
    "    The same timestamps are available in all projection. New timestamp are added to the former ones.\n",
    "    The layer ch.kantone.cadastralwebmap-farbe uses a WMS service as its source.\n",
    "    Note that all layers are available at all scales. You have to check for which tileMatrixSets a particuliar layer is defined. Your WMTS client may either stretch the tiles from the last available level or display nothing.\n",
    "\n",
    "Example\n",
    "\n",
    "    At tile: https://wmts.geo.admin.ch/1.0.0/ch.swisstopo.pixelkarte-farbe/default/current/3857/9/266/180.jpeg\n",
    "\n",
    "    An OpenLayers3 application using the pseudo-Mercator projection\n",
    "    An OpenLayers3 example showing the Cadastralwebmap as WMTS\n",
    "    Switzerland is now adopting the new LV95 frame.\n",
    "    All available layers as WMTS.\n",
    "\n"
   ]
  },
  {
   "cell_type": "markdown",
   "metadata": {},
   "source": [
    "https://api3.geo.admin.ch/services/sdiservices.html#cache-update"
   ]
  },
  {
   "cell_type": "markdown",
   "metadata": {},
   "source": [
    "\n",
    "Cache Update\n",
    "\n",
    "As noted in the WMTS service, the Tiles of a given <Time> dimension might be updated for technical reasons. If you are caching Tiles locally, this might result in your cache being outdated. Use the Cache Update service to query the Date of the last update for a given layer. If your cache is older than the returned Date, you have to clear your local cache.\n",
    "URL\n",
    "\n",
    "https://api3.geo.admin.ch/rest/services/api/MapServer/{layerBodId}/cacheUpdate\n",
    "\n",
    "Example\n",
    "\n",
    "    The the latest Cache Update for SwissImage Product: https://api3.geo.admin.ch/rest/services/api/MapServer/ch.swisstopo.swissimage-product/cacheUpdate\n",
    "\n"
   ]
  },
  {
   "cell_type": "code",
   "execution_count": null,
   "metadata": {},
   "outputs": [],
   "source": []
  }
 ],
 "metadata": {
  "kernelspec": {
   "display_name": "Python 3",
   "language": "python",
   "name": "python3"
  },
  "language_info": {
   "codemirror_mode": {
    "name": "ipython",
    "version": 3
   },
   "file_extension": ".py",
   "mimetype": "text/x-python",
   "name": "python",
   "nbconvert_exporter": "python",
   "pygments_lexer": "ipython3",
   "version": "3.8.0"
  }
 },
 "nbformat": 4,
 "nbformat_minor": 4
}
