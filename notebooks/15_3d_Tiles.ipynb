{
 "cells": [
  {
   "cell_type": "markdown",
   "metadata": {},
   "source": [
    "----------------------------- DOCUMENTATION -------------------------------------\n",
    "You can find this documentation at https://api3.geo.admin.ch/services/sdiservices.html#d-tiles"
   ]
  },
  {
   "cell_type": "markdown",
   "metadata": {},
   "source": [
    "\n",
    "3D Tiles\n",
    "\n",
    "A RESTFul implementation of “Cesium” 3D Tiles specification. In order to access the 3D tiles, you require a swisstopo web access - Inscription form .\n",
    "URL\n",
    "\n",
    "    https://vectortiles0.geo.admin.ch/3d-tiles/\n",
    "    https://vectortiles1.geo.admin.ch/3d-tiles/\n",
    "    https://vectortiles2.geo.admin.ch/3d-tiles/\n",
    "    https://vectortiles3.geo.admin.ch/3d-tiles/\n",
    "    https://vectortiles4.geo.admin.ch/3d-tiles/\n",
    "\n",
    "Metadata Service\n",
    "\n",
    "The tileset.json file describes the available set of tiles. In order to use this service, you must currently use a fork of CesiumJS, the 3d-tiles branch. Stay informed and have a look at the current RoadMap for 3D Tiles.\n",
    "\n",
    "Currently, 3 technical layers (ch.swisstopo.swisstlm3d.3d, ch.swisstopo.swissnames3d.3d, ch.swisstopo.vegetation.3d) are available and they contains all available 3D objects. Additional layers will be available in the future. Partial 3D buildings model coverage can be vizsualised here.\n",
    "\n",
    "    https://vectortiles0.geo.admin.ch/3d-tiles/ch.swisstopo.swisstlm3d.3d/20190924/tileset.json\n",
    "    https://vectortiles0.geo.admin.ch/3d-tiles/ch.swisstopo.swissnames3d.3d/20180716/tileset.json\n",
    "    https://vectortiles0.geo.admin.ch/3d-tiles/ch.swisstopo.vegetation.3d/20190313/tileset.json\n",
    "\n",
    "Example\n",
    "\n",
    "    A 3D tile : https://vectortiles0.geo.admin.ch/3d-tiles/ch.swisstopo.swisstlm3d.3d/20190924/8/41/50.b3dm?v=1.0\n",
    "\n"
   ]
  }
 ],
 "metadata": {
  "kernelspec": {
   "display_name": "Python 3",
   "language": "python",
   "name": "python3"
  },
  "language_info": {
   "codemirror_mode": {
    "name": "ipython",
    "version": 3
   },
   "file_extension": ".py",
   "mimetype": "text/x-python",
   "name": "python",
   "nbconvert_exporter": "python",
   "pygments_lexer": "ipython3",
   "version": "3.8.0"
  }
 },
 "nbformat": 4,
 "nbformat_minor": 4
}
