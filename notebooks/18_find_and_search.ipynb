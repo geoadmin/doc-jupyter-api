{
 "cells": [
  {
   "cell_type": "markdown",
   "metadata": {},
   "source": [
    "In this notebook and the next one, we're going to use some of the resources in the api and use them. You can find the relevant documentation for the services shown here in\n",
    "- 05_Identify_Features\n",
    "- 06_Find\n",
    "- 09_Search\n",
    "- 12_WMTS"
   ]
  },
  {
   "cell_type": "code",
   "execution_count": 1,
   "metadata": {},
   "outputs": [],
   "source": [
    "import os\n",
    "import requests\n",
    "import pandas\n",
    "import geopandas\n",
    "import json"
   ]
  },
  {
   "cell_type": "markdown",
   "metadata": {},
   "source": [
    "We're going to prepare a search query of each type and one find query. For these examples, I took the decision of setting non used parameters to None, which means the requests library will ignore them when transforming our dictionary into a get URL. It is also possible to only specify used parameters, and might be even less confusing for some people. You can get more imformations about the 'requests' library at 'https://requests.readthedocs.io/en/master/'"
   ]
  },
  {
   "cell_type": "code",
   "execution_count": 2,
   "metadata": {},
   "outputs": [],
   "source": [
    "basic_find_url = \"https://api3.geo.admin.ch/rest/services/api/MapServer/find\"\n",
    "basic_search_url = \"https://api3.geo.admin.ch/rest/services/api/SearchServer\"\n",
    "\n",
    "find_parameters = {'layer': 'ch.bafu.bundesinventare-bln', 'searchText': 'Lavaux', 'searchField': 'bln_name', 'contains':None, 'geometryFormat': None, 'returnGeometry': None, 'sr': None, 'lang': None, 'layerDefs': None, 'callbacks': None}\n",
    "search_parameters_for_location = {'searchText': 'wasser', 'type': 'locations', 'bbox': None, 'sortbbox': None, 'returnGeometry': None, 'origins': None, 'limit': None, 'sr': None, 'geometryFormat': None, 'callback': None}\n",
    "search_parameters_for_layer = {'searchText': 'wasser', 'type': 'layers', 'lang': None,'limit': None, 'sr': None, 'geometryFormat': None, 'callback': None}\n",
    "search_parameters_for_feature = {'searchText': 'wasser', 'type': 'featuresearch', 'bbox': None, 'sortbbox': None, 'features': 'ch.bafu.hydrologie-gewaesserzustandsmessstationen', 'limit': None, 'sr': None, 'geometryFormat': None, 'callback': None}\n",
    "\n"
   ]
  },
  {
   "cell_type": "markdown",
   "metadata": {},
   "source": [
    "Now that we have all our parameters, executing the queries is pretty simple"
   ]
  },
  {
   "cell_type": "code",
   "execution_count": 3,
   "metadata": {},
   "outputs": [
    {
     "name": "stdout",
     "output_type": "stream",
     "text": [
      "https://api3.geo.admin.ch/rest/services/api/MapServer/find?layer=ch.bafu.bundesinventare-bln&searchText=Lavaux&searchField=bln_name 200\n",
      "https://api3.geo.admin.ch/rest/services/api/SearchServer?searchText=wasser&type=locations 200\n",
      "https://api3.geo.admin.ch/rest/services/api/SearchServer?searchText=wasser&type=layers 200\n",
      "https://api3.geo.admin.ch/rest/services/api/SearchServer?searchText=wasser&type=featuresearch&features=ch.bafu.hydrologie-gewaesserzustandsmessstationen 200\n"
     ]
    }
   ],
   "source": [
    "find_query=requests.get(url=basic_find_url, params=find_parameters)\n",
    "search_query_locations=requests.get(url=basic_search_url, params=search_parameters_for_location)\n",
    "search_query_layers=requests.get(url=basic_search_url, params=search_parameters_for_layer)\n",
    "search_query_features=requests.get(url=basic_search_url, params=search_parameters_for_feature)\n",
    "print(find_query.url, find_query.status_code)\n",
    "print(search_query_locations.url, search_query_locations.status_code)\n",
    "print(search_query_layers.url, search_query_layers.status_code)\n",
    "print(search_query_features.url, search_query_features.status_code)"
   ]
  },
  {
   "cell_type": "code",
   "execution_count": null,
   "metadata": {},
   "outputs": [],
   "source": []
  },
  {
   "cell_type": "code",
   "execution_count": null,
   "metadata": {},
   "outputs": [],
   "source": []
  }
 ],
 "metadata": {
  "kernelspec": {
   "display_name": "Python 3",
   "language": "python",
   "name": "python3"
  },
  "language_info": {
   "codemirror_mode": {
    "name": "ipython",
    "version": 3
   },
   "file_extension": ".py",
   "mimetype": "text/x-python",
   "name": "python",
   "nbconvert_exporter": "python",
   "pygments_lexer": "ipython3",
   "version": "3.8.0"
  }
 },
 "nbformat": 4,
 "nbformat_minor": 4
}
