{
 "cells": [
  {
   "cell_type": "markdown",
   "metadata": {
    "jupyter": {
     "outputs_hidden": true
    }
   },
   "source": [
    "----------------------------- DOCUMENTATION -------------------------------------\n",
    "You can find this documentation at https://api3.geo.admin.ch/services/sdiservices.html#sparql-service"
   ]
  },
  {
   "cell_type": "markdown",
   "metadata": {},
   "source": [
    "\n",
    "SPARQL Service\n",
    "\n",
    "This service enables the connection of geodata from different sources as Linked Data. It uses the open query language SPARQL.\n",
    "URL\n",
    "\n",
    "https://sparql.geo.admin.ch/sparql\n",
    "https://ld.geo.admin.ch/sparql/ (YASGUI)\n",
    "\n",
    "Available datasets\n",
    "\n",
    "    swissBOUNDARIES3D : https://ld.geo.admin.ch/data/swissBOUNDARIES3D\n",
    "    Public transport stops : https://ld.geo.admin.ch/data/PublicTransportStops\n",
    "\n",
    "Examples\n",
    "\n",
    "    Get the top five most populated municipalities in 2016 : https://tinyurl.com/ybfn8mlt\n",
    "    Get the 2016 version of the administrative units at coordinate (lon,lat) 7.43, 46.95 : https://tinyurl.com/yb985olj\n",
    "    Get all the districts by canton number and year : https://tinyurl.com/y8fovmt\n",
    "    Get all the versions of a resource by URI : https://tinyurl.com/hvw2zhq\n",
    "    Get the corresponding resource in Wikidata and GeoNames (Municipality) : https://tinyurl.com/y8ln886n\n",
    "    Get the Wikipedia abstract (Municipality) : https://tinyurl.com/y89hcpce\n",
    "    Get the five highest stops : https://tinyurl.com/yah7tbwd\n",
    "    Get stops above 3000 meters : https://tinyurl.com/yauhxk6x\n",
    "    Get stops with means of transportation = Rack railway, boat : https://tinyurl.com/ycu5gly6\n",
    "\n"
   ]
  }
 ],
 "metadata": {
  "kernelspec": {
   "display_name": "Python 3",
   "language": "python",
   "name": "python3"
  },
  "language_info": {
   "codemirror_mode": {
    "name": "ipython",
    "version": 3
   },
   "file_extension": ".py",
   "mimetype": "text/x-python",
   "name": "python",
   "nbconvert_exporter": "python",
   "pygments_lexer": "ipython3",
   "version": "3.8.0"
  }
 },
 "nbformat": 4,
 "nbformat_minor": 4
}
